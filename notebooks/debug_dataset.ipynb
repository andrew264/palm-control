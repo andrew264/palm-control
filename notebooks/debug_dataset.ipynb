{
 "cells": [
  {
   "cell_type": "code",
   "execution_count": null,
   "id": "initial_id",
   "metadata": {
    "collapsed": true
   },
   "outputs": [],
   "source": [
    "import pandas as pd"
   ]
  },
  {
   "cell_type": "code",
   "outputs": [],
   "source": [
    "import IPython\n",
    "from PIL import Image\n",
    "import numpy as np\n",
    "from utils import draw_landmarks_on_image\n",
    "\n",
    "WIDTH, HEIGHT = 1280, 720\n",
    "def plot_hands(hand,):\n",
    "    frame = np.zeros((HEIGHT, WIDTH, 3), dtype=np.uint8)\n",
    "    frame = draw_landmarks_on_image(frame, hand)\n",
    "    IPython.display.display(Image.fromarray(frame))"
   ],
   "metadata": {
    "collapsed": false
   },
   "id": "79d64b6ceaf23291",
   "execution_count": null
  },
  {
   "cell_type": "code",
   "outputs": [],
   "source": [
    "from gesture_rec.train_gesture_model import GestureDataset\n",
    "from utils import get_gesture_class_labels\n",
    "\n",
    "stats_file = '../gesture_rec/stats.csv'\n",
    "stats = pd.read_csv(stats_file)\n",
    "\n",
    "choices_file = \"../gesture_rec/choices.txt\"\n",
    "labels = get_gesture_class_labels(choices_file)\n",
    "dataset_file = \"../gesture_rec/dataset.jsonl\"\n",
    "dataset = GestureDataset(file_path=dataset_file, _labels=labels)"
   ],
   "metadata": {
    "collapsed": false
   },
   "id": "b70680a2e771793a",
   "execution_count": null
  },
  {
   "cell_type": "code",
   "outputs": [],
   "source": [
    "for i in range(len(stats)):\n",
    "    row = stats.iloc[i]\n",
    "    ids = row['Index']\n",
    "    to = row['True Output']\n",
    "    mp = row['Model Prediction']\n",
    "    print(f\"Index: {ids+1}, True Output: {to}, Model Prediction: {mp}\")\n",
    "    hand = dataset[ids][0]\n",
    "    plot_hands(hand)"
   ],
   "metadata": {
    "collapsed": false
   },
   "id": "528a849fe8658d12",
   "execution_count": null
  }
 ],
 "metadata": {
  "kernelspec": {
   "display_name": "Python 3",
   "language": "python",
   "name": "python3"
  },
  "language_info": {
   "codemirror_mode": {
    "name": "ipython",
    "version": 2
   },
   "file_extension": ".py",
   "mimetype": "text/x-python",
   "name": "python",
   "nbconvert_exporter": "python",
   "pygments_lexer": "ipython2",
   "version": "2.7.6"
  }
 },
 "nbformat": 4,
 "nbformat_minor": 5
}
