{
 "cells": [
  {
   "cell_type": "code",
   "execution_count": 1,
   "id": "initial_id",
   "metadata": {
    "collapsed": true,
    "ExecuteTime": {
     "end_time": "2024-03-10T13:07:57.801530Z",
     "start_time": "2024-03-10T13:07:54.551027Z"
    }
   },
   "outputs": [],
   "source": [
    "import numpy as np\n",
    "import torch"
   ]
  },
  {
   "cell_type": "code",
   "outputs": [
    {
     "data": {
      "text/plain": "tensor([3.0000, 1.0000, 1.7321, 3.7417])"
     },
     "execution_count": 2,
     "metadata": {},
     "output_type": "execute_result"
    }
   ],
   "source": [
    "# torch\n",
    "da_points = [\n",
    "    [[1, 0, 1], [1, 3, 1]],\n",
    "    [[0, 0, 0], [0, 0, 1]],\n",
    "    [[0, 0, 0], [1, 1, 1]],\n",
    "    [[0, 0, 0], [1, 2, 3]]\n",
    "]\n",
    "pt_points = torch.tensor(da_points).float()\n",
    "torch.linalg.norm(pt_points[:, 0] - pt_points[:, 1], dim=-1)"
   ],
   "metadata": {
    "collapsed": false,
    "ExecuteTime": {
     "end_time": "2024-03-10T13:07:57.823201Z",
     "start_time": "2024-03-10T13:07:57.806561Z"
    }
   },
   "id": "5ea9534830688ae7",
   "execution_count": 2
  },
  {
   "cell_type": "code",
   "outputs": [
    {
     "data": {
      "text/plain": "(tensor([0.7854, 1.5708, 1.7458, 1.7609]),\n tensor([ 45.0000,  90.0000, 100.0250, 100.8934]))"
     },
     "execution_count": 3,
     "metadata": {},
     "output_type": "execute_result"
    }
   ],
   "source": [
    "# angles\n",
    "da_points_angles = [\n",
    "    [[0, 0, 0], [0, 1, 0], [1, 0, 0]],\n",
    "    [[0, 0, 0], [0, 0, 1], [3, 0, 1]],\n",
    "    [[0, 0, 0], [1, 1, 1], [0, 4, 0]],\n",
    "    [[0, 0, 0], [1, 2, 3], [1, 0, 5]]\n",
    "]\n",
    "pt_points_angles = torch.tensor(da_points_angles).float()\n",
    "v1 = pt_points_angles[:, 0] - pt_points_angles[:, 1]\n",
    "v2 = pt_points_angles[:, 2] - pt_points_angles[:, 1]\n",
    "angle = torch.acos(torch.sum(v1 * v2, dim=-1) / (torch.linalg.norm(v1, dim=-1) * torch.linalg.norm(v2, dim=-1)))\n",
    "angle, torch.rad2deg(angle)"
   ],
   "metadata": {
    "collapsed": false,
    "ExecuteTime": {
     "end_time": "2024-03-10T13:07:57.837885Z",
     "start_time": "2024-03-10T13:07:57.825211Z"
    }
   },
   "id": "34035e09db8d6e35",
   "execution_count": 3
  },
  {
   "cell_type": "code",
   "outputs": [
    {
     "name": "stderr",
     "output_type": "stream",
     "text": [
      "C:\\Users\\Andrew\\AppData\\Local\\Temp\\ipykernel_8216\\2936825264.py:6: UserWarning: Creating a tensor from a list of numpy.ndarrays is extremely slow. Please consider converting the list to a single numpy.ndarray with numpy.array() before converting to a tensor. (Triggered internally at C:\\cb\\pytorch_1000000000000\\work\\torch\\csrc\\utils\\tensor_new.cpp:278.)\n",
      "  torch_landmarks = torch.tensor([landmarks,])\n"
     ]
    }
   ],
   "source": [
    "from utils import normalize_landmarks\n",
    "\n",
    "# peace\n",
    "landmarks = [0.3996416926383972, 0.8413947820663452, 3.581182284051465e-07, 0.37495410442352295, 0.7088689804077148, 0.006695433519780636, 0.3964425325393677, 0.595902144908905, 0.009547620080411434, 0.4379405975341797, 0.5500255823135376, 0.010947623290121555, 0.4693464934825897, 0.5369591116905212, 0.012689052149653435, 0.41608479619026184, 0.5367227792739868, -0.008178960531949997, 0.42339926958084106, 0.384441614151001, -0.014541585929691792, 0.430178165435791, 0.2937583029270172, -0.017104003578424454, 0.4379025399684906, 0.22585943341255188, -0.018291667103767395, 0.46063971519470215, 0.5693675875663757, -0.014050980098545551, 0.49313512444496155, 0.4442290961742401, -0.01715371198952198, 0.5165508985519409, 0.37713685631752014, -0.017738977447152138, 0.5377882122993469, 0.3325599133968353, -0.017881829291582108, 0.49112242460250854, 0.6179909110069275, -0.01814105361700058, 0.5034812092781067, 0.5287481546401978, -0.021909624338150024, 0.48333126306533813, 0.5404998660087585, -0.01794051006436348, 0.4671288728713989, 0.5711888670921326, -0.012892799451947212, 0.5075646638870239, 0.6675828099250793, -0.02160152979195118, 0.5010015368461609, 0.5938652157783508, -0.024522799998521805, 0.48198196291923523, 0.5992310643196106, -0.017849650233983994, 0.4714977443218231, 0.6254611611366272, -0.010133002884685993]\n",
    "landmarks = normalize_landmarks(np.array(landmarks).reshape(-1, 3))\n",
    "torch_landmarks = torch.tensor([landmarks,])"
   ],
   "metadata": {
    "collapsed": false,
    "ExecuteTime": {
     "end_time": "2024-03-10T13:07:57.907172Z",
     "start_time": "2024-03-10T13:07:57.838893Z"
    }
   },
   "id": "d46624e90229b70",
   "execution_count": 4
  },
  {
   "cell_type": "code",
   "outputs": [],
   "source": [
    "from typin import HandLandmark as HL\n",
    "ANGLES = [\n",
    "    [HL.THUMB_CMC, HL.THUMB_MCP, HL.THUMB_IP],\n",
    "    [HL.THUMB_MCP, HL.THUMB_IP, HL.THUMB_TIP],\n",
    "    [HL.INDEX_FINGER_MCP, HL.INDEX_FINGER_PIP, HL.INDEX_FINGER_DIP],\n",
    "    [HL.INDEX_FINGER_PIP, HL.INDEX_FINGER_DIP, HL.INDEX_FINGER_TIP],\n",
    "    [HL.MIDDLE_FINGER_MCP, HL.MIDDLE_FINGER_PIP, HL.MIDDLE_FINGER_DIP],\n",
    "    [HL.MIDDLE_FINGER_PIP, HL.MIDDLE_FINGER_DIP, HL.MIDDLE_FINGER_TIP],\n",
    "    [HL.RING_FINGER_MCP, HL.RING_FINGER_PIP, HL.RING_FINGER_DIP],\n",
    "    [HL.RING_FINGER_PIP, HL.RING_FINGER_DIP, HL.RING_FINGER_TIP],\n",
    "    [HL.PINKY_MCP, HL.PINKY_PIP, HL.PINKY_DIP],\n",
    "    [HL.PINKY_PIP, HL.PINKY_DIP, HL.PINKY_TIP],\n",
    "    [HL.THUMB_IP, HL.WRIST, HL.INDEX_FINGER_MCP],\n",
    "    [HL.THUMB_IP, HL.WRIST, HL.PINKY_MCP],\n",
    "    [HL.WRIST, HL.INDEX_FINGER_MCP, HL.INDEX_FINGER_PIP],\n",
    "    [HL.WRIST, HL.MIDDLE_FINGER_MCP, HL.MIDDLE_FINGER_PIP],\n",
    "    [HL.WRIST, HL.RING_FINGER_MCP, HL.RING_FINGER_PIP],\n",
    "    [HL.WRIST, HL.PINKY_MCP, HL.PINKY_PIP],\n",
    "    [HL.WRIST, HL.THUMB_MCP, HL.THUMB_IP],\n",
    "]"
   ],
   "metadata": {
    "collapsed": false,
    "ExecuteTime": {
     "end_time": "2024-03-10T13:07:57.915472Z",
     "start_time": "2024-03-10T13:07:57.909190Z"
    }
   },
   "id": "b80a65c2b5e4532",
   "execution_count": 5
  },
  {
   "cell_type": "code",
   "outputs": [
    {
     "data": {
      "text/plain": "(tensor([[2.4721, 2.9449, 2.9482, 2.9375, 2.8973, 2.9875, 0.7592, 2.8612, 1.2378,\n          2.8277, 0.9517, 1.3570, 2.9539, 2.8414, 2.7093, 1.9635, 1.8442]]),\n tensor([[141.6418, 168.7310, 168.9187, 168.3054, 166.0053, 171.1685,  43.4982,\n          163.9360,  70.9232, 162.0133,  54.5296,  77.7478, 169.2435, 162.7986,\n          155.2334, 112.5024, 105.6661]]))"
     },
     "execution_count": 6,
     "metadata": {},
     "output_type": "execute_result"
    }
   ],
   "source": [
    "def get_all_angles(landmarks: torch.Tensor) -> torch.Tensor:\n",
    "    angles = []\n",
    "    for angle in ANGLES:\n",
    "        v1 = landmarks[:, angle[0].value] - landmarks[:, angle[1].value]\n",
    "        v2 = landmarks[:, angle[2].value] - landmarks[:, angle[1].value]\n",
    "        angle = torch.acos(torch.sum(v1 * v2, dim=-1) / (torch.linalg.norm(v1, dim=-1) * torch.linalg.norm(v2, dim=-1)))\n",
    "        angles.append(angle)\n",
    "    return torch.stack(angles, dim=-1)\n",
    "rad = get_all_angles(torch_landmarks)\n",
    "rad, torch.rad2deg(rad)"
   ],
   "metadata": {
    "collapsed": false,
    "ExecuteTime": {
     "end_time": "2024-03-10T13:07:57.926698Z",
     "start_time": "2024-03-10T13:07:57.917478Z"
    }
   },
   "id": "9a54c77a5377d8f",
   "execution_count": 6
  },
  {
   "cell_type": "code",
   "outputs": [],
   "source": [
    "DISTANCES = [\n",
    "    [HL.THUMB_TIP, HL.INDEX_FINGER_TIP],\n",
    "    [HL.THUMB_TIP, HL.MIDDLE_FINGER_TIP],\n",
    "    [HL.THUMB_TIP, HL.RING_FINGER_TIP],\n",
    "    [HL.THUMB_TIP, HL.PINKY_TIP],\n",
    "    [HL.THUMB_TIP, HL.INDEX_FINGER_DIP],\n",
    "    [HL.THUMB_TIP, HL.MIDDLE_FINGER_DIP],\n",
    "    [HL.THUMB_TIP, HL.RING_FINGER_DIP],\n",
    "    [HL.THUMB_TIP, HL.PINKY_DIP],\n",
    "    [HL.THUMB_TIP, HL.INDEX_FINGER_PIP],\n",
    "    [HL.THUMB_TIP, HL.MIDDLE_FINGER_PIP],\n",
    "    [HL.THUMB_TIP, HL.RING_FINGER_PIP],\n",
    "    [HL.THUMB_TIP, HL.PINKY_PIP],\n",
    "    [HL.THUMB_TIP, HL.INDEX_FINGER_MCP],\n",
    "    [HL.THUMB_TIP, HL.MIDDLE_FINGER_MCP],\n",
    "    [HL.THUMB_TIP, HL.RING_FINGER_MCP],\n",
    "    [HL.THUMB_TIP, HL.PINKY_MCP],\n",
    "    [HL.WRIST, HL.THUMB_TIP],\n",
    "    [HL.WRIST, HL.INDEX_FINGER_TIP],\n",
    "    [HL.WRIST, HL.MIDDLE_FINGER_TIP],\n",
    "    [HL.WRIST, HL.RING_FINGER_TIP],\n",
    "    [HL.WRIST, HL.PINKY_TIP],\n",
    "    [HL.THUMB_CMC, HL.INDEX_FINGER_TIP],\n",
    "    [HL.THUMB_CMC, HL.MIDDLE_FINGER_TIP],\n",
    "    [HL.THUMB_CMC, HL.RING_FINGER_TIP],\n",
    "    [HL.THUMB_CMC, HL.PINKY_TIP],\n",
    "    [HL.INDEX_FINGER_TIP, HL.INDEX_FINGER_MCP],\n",
    "    [HL.MIDDLE_FINGER_TIP, HL.MIDDLE_FINGER_MCP],\n",
    "    [HL.RING_FINGER_TIP, HL.RING_FINGER_MCP],\n",
    "    [HL.PINKY_TIP, HL.PINKY_MCP],\n",
    "]"
   ],
   "metadata": {
    "collapsed": false,
    "ExecuteTime": {
     "end_time": "2024-03-10T13:07:57.934570Z",
     "start_time": "2024-03-10T13:07:57.927704Z"
    }
   },
   "id": "ec30c72db5e36feb",
   "execution_count": 7
  },
  {
   "cell_type": "code",
   "outputs": [
    {
     "data": {
      "text/plain": "tensor([[0.9929, 0.9807, 0.6898, 0.6301, 0.9247, 0.9056, 0.8276, 0.8305, 0.8225,\n         0.8290, 0.9532, 1.0229, 0.6492, 0.7225, 0.8495, 0.9743, 0.7377, 1.1388,\n         1.2783, 0.6961, 0.6261, 1.1028, 1.3454, 0.8047, 0.7579, 0.5889, 0.6189,\n         0.2177, 0.3857]])"
     },
     "execution_count": 8,
     "metadata": {},
     "output_type": "execute_result"
    }
   ],
   "source": [
    "def get_all_distances(landmarks: torch.Tensor) -> torch.Tensor:\n",
    "    distances = []\n",
    "    for distance in DISTANCES:\n",
    "        distance = torch.linalg.norm(landmarks[:, distance[0].value] - landmarks[:, distance[1].value], dim=-1)\n",
    "        distances.append(distance)\n",
    "    return torch.stack(distances, dim=-1)\n",
    "get_all_distances(torch_landmarks)"
   ],
   "metadata": {
    "collapsed": false,
    "ExecuteTime": {
     "end_time": "2024-03-10T13:07:57.944841Z",
     "start_time": "2024-03-10T13:07:57.936576Z"
    }
   },
   "id": "c24a2dcb1808cf9a",
   "execution_count": 8
  }
 ],
 "metadata": {
  "kernelspec": {
   "display_name": "Python 3",
   "language": "python",
   "name": "python3"
  },
  "language_info": {
   "codemirror_mode": {
    "name": "ipython",
    "version": 2
   },
   "file_extension": ".py",
   "mimetype": "text/x-python",
   "name": "python",
   "nbconvert_exporter": "python",
   "pygments_lexer": "ipython2",
   "version": "2.7.6"
  }
 },
 "nbformat": 4,
 "nbformat_minor": 5
}
